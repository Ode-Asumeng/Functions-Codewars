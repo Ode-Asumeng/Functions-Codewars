{
 "cells": [
  {
   "cell_type": "markdown",
   "id": "e6bd0eba",
   "metadata": {},
   "source": [
    "#### Question 1"
   ]
  },
  {
   "cell_type": "markdown",
   "id": "a927531a",
   "metadata": {},
   "source": [
    "### Given an array of integers.\n",
    "\n",
    "Return an array, where the first element is the count of positives numbers and the second element is sum of negative numbers. 0 is neither positive nor negative.\n",
    "\n",
    "If the input is an empty array or is null, return an empty array."
   ]
  },
  {
   "cell_type": "code",
   "execution_count": 1,
   "id": "eb867241",
   "metadata": {},
   "outputs": [],
   "source": [
    "def pos_count_neg_add(arr):\n",
    "    if len(arr) == 0:\n",
    "        return[]\n",
    "    #setting counter variable to 0\n",
    "    counter = 0\n",
    "    #setting adder to 0\n",
    "    adder = 0\n",
    "    \n",
    "    #loop through arr\n",
    "    for num in arr:\n",
    "        #check if number is positive\n",
    "        if num > 0:\n",
    "            #count positive\n",
    "            counter += 1\n",
    "    \n",
    "        elif num < 0:\n",
    "            #sum negatives\n",
    "            adder += num\n",
    "            \n",
    "    if counter == 0 and adder == 0:\n",
    "        return [0,0]\n",
    "    \n",
    "    return [counter, adder]"
   ]
  },
  {
   "cell_type": "code",
   "execution_count": 119,
   "id": "38cb877d",
   "metadata": {},
   "outputs": [
    {
     "name": "stdout",
     "output_type": "stream",
     "text": [
      "[10, -65]\n"
     ]
    }
   ],
   "source": [
    "print(pos_count_neg_add([1, 2, 3, 4, 5, 6, 7, 8, 9, 10, -11, -12, -13, -14, -15]))"
   ]
  },
  {
   "cell_type": "markdown",
   "id": "2884fc8a",
   "metadata": {},
   "source": [
    "#### Question 2"
   ]
  },
  {
   "cell_type": "markdown",
   "id": "37e3bceb",
   "metadata": {},
   "source": [
    "- Given a month as an integer from 1 to 12, return to which quarter of the year it belongs as an integer number.\n",
    "\n",
    "For example: month 2 (February), is part of the first quarter; month 6 (June), is part of the second quarter; and month 11 (November), is part of the fourth quarter."
   ]
  },
  {
   "cell_type": "code",
   "execution_count": 2,
   "id": "bcf87409",
   "metadata": {},
   "outputs": [],
   "source": [
    "#Function to return what quarter a month belongs to\n",
    "def months(x):\n",
    "    if x <= 3:\n",
    "        return 1\n",
    "    elif x <= 6:\n",
    "        return 2\n",
    "    elif x <= 9:\n",
    "        return 3\n",
    "    else:\n",
    "        return 4"
   ]
  },
  {
   "cell_type": "code",
   "execution_count": 3,
   "id": "e73b98aa",
   "metadata": {},
   "outputs": [
    {
     "name": "stdout",
     "output_type": "stream",
     "text": [
      "4\n",
      "1\n",
      "2\n",
      "3\n"
     ]
    }
   ],
   "source": [
    "print(months(12))\n",
    "print(months(3))\n",
    "print(months(5))\n",
    "print(months(9))"
   ]
  }
 ],
 "metadata": {
  "kernelspec": {
   "display_name": "Python 3 (ipykernel)",
   "language": "python",
   "name": "python3"
  },
  "language_info": {
   "codemirror_mode": {
    "name": "ipython",
    "version": 3
   },
   "file_extension": ".py",
   "mimetype": "text/x-python",
   "name": "python",
   "nbconvert_exporter": "python",
   "pygments_lexer": "ipython3",
   "version": "3.8.8"
  }
 },
 "nbformat": 4,
 "nbformat_minor": 5
}
